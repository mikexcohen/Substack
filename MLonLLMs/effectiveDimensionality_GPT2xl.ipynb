{
  "nbformat": 4,
  "nbformat_minor": 0,
  "metadata": {
    "colab": {
      "private_outputs": true,
      "provenance": [],
      "gpuType": "A100"
    },
    "kernelspec": {
      "name": "python3",
      "display_name": "Python 3"
    },
    "language_info": {
      "name": "python"
    },
    "accelerator": "GPU"
  },
  "cells": [
    {
      "cell_type": "markdown",
      "metadata": {
        "id": "view-in-github"
      },
      "source": [
        "<a href=\"https://colab.research.google.com/github/mikexcohen/Substack/blob/main/MLonLLMs/effectiveDimensionality_GPT2xl.ipynb\" target=\"_parent\"><img src=\"https://colab.research.google.com/assets/colab-badge.svg\" alt=\"Open In Colab\"/></a>"
      ]
    },
    {
      "cell_type": "markdown",
      "source": [
        "|<h2>Substack post:</h2>|<h1><a href=\"https://mikexcohen.substack.com/p/effective-dimensionality-analysis\" target=\"_blank\">Effective dimensionality analysis of LLM transformers</a></h1>|\n",
        "|-|:-:|\n",
        "|<h2>Teacher:<h2>|<h1>Mike X Cohen, <a href=\"https://sincxpress.com\" target=\"_blank\">sincxpress.com</a></h1>|\n",
        "\n",
        "<br>\n",
        "\n",
        "<i>Using the code without reading the post may lead to confusion or errors.</i>"
      ],
      "metadata": {
        "id": "py_eibYAH3Q-"
      }
    },
    {
      "cell_type": "code",
      "execution_count": null,
      "metadata": {
        "id": "WTp8j3TJAqvB"
      },
      "outputs": [],
      "source": [
        "import numpy as np\n",
        "import matplotlib.pyplot as plt\n",
        "import matplotlib as mpl\n",
        "from matplotlib import gridspec\n",
        "import requests\n",
        "\n",
        "# pytorch libraries\n",
        "import torch\n",
        "import torch.nn.functional as F\n",
        "\n",
        "# huggingface libraries for GPT2\n",
        "from transformers import AutoModelForCausalLM, GPT2Tokenizer"
      ]
    },
    {
      "cell_type": "code",
      "source": [
        "### Run this cell only if you're using \"dark mode\"\n",
        "\n",
        "# svg plots (higher-res)\n",
        "import matplotlib_inline.backend_inline\n",
        "matplotlib_inline.backend_inline.set_matplotlib_formats('svg')\n",
        "\n",
        "plt.rcParams.update({\n",
        "    'figure.facecolor': '#171717',\n",
        "    'figure.edgecolor': '#171717',\n",
        "    'axes.facecolor':   '#171717',\n",
        "    'axes.edgecolor':   '#DDE2F4',\n",
        "    'axes.labelcolor':  '#DDE2F4',\n",
        "    'xtick.color':      '#DDE2F4',\n",
        "    'ytick.color':      '#DDE2F4',\n",
        "    'text.color':       '#DDE2F4',\n",
        "    'axes.spines.right': False,\n",
        "    'axes.spines.top':   False,\n",
        "    'axes.titleweight': 'bold',\n",
        "    'axes.labelweight': 'bold',\n",
        "})"
      ],
      "metadata": {
        "id": "dy4A-ah8kzZQ"
      },
      "execution_count": null,
      "outputs": []
    },
    {
      "cell_type": "code",
      "source": [],
      "metadata": {
        "id": "_Gp9x0KEH5cz"
      },
      "execution_count": null,
      "outputs": []
    },
    {
      "cell_type": "markdown",
      "source": [
        "# Concept of effective dimensionality"
      ],
      "metadata": {
        "id": "H5WrlyLgwtdw"
      }
    },
    {
      "cell_type": "code",
      "source": [
        "# a bit of data\n",
        "x = np.random.uniform(low=0,high=5,size=50)\n",
        "y = np.random.normal(loc=0,scale=.07,size=len(x))\n",
        "\n",
        "_,axs = plt.subplots(1,2,figsize=(9,3.5))\n",
        "axs[0].plot(x,x,'wo',markerfacecolor=[.9,.7,.7,.5],markersize=10)\n",
        "axs[1].plot(x,x+y,'wo',markerfacecolor=[.7,.9,.9,.5],markersize=10)\n",
        "\n",
        "for a in axs:\n",
        "  a.axis('square')\n",
        "  a.set(xlabel='x',ylabel='y')\n",
        "  a.plot([0,5],[0,5],color='gray',zorder=-2)\n",
        "\n",
        "plt.tight_layout()\n",
        "plt.show()"
      ],
      "metadata": {
        "id": "f9rZW1bwwwPw"
      },
      "execution_count": null,
      "outputs": []
    },
    {
      "cell_type": "code",
      "source": [],
      "metadata": {
        "id": "Ezl6AMuQwtaw"
      },
      "execution_count": null,
      "outputs": []
    },
    {
      "cell_type": "markdown",
      "source": [
        "# Dimensionality analysis demo"
      ],
      "metadata": {
        "id": "PYukLmmWCtNo"
      }
    },
    {
      "cell_type": "code",
      "source": [
        "# 1) create a tall matrix\n",
        "m = 10 # number of rows\n",
        "r = 2  # number of columns (and rank)\n",
        "v = np.random.randn(m,r)\n",
        "\n",
        "# 2) a square matrix with rank r\n",
        "M = v @ v.T\n",
        "\n",
        "# 3) dimensionality analysis via SVD\n",
        "s = np.linalg.svd(M)[1]\n",
        "s"
      ],
      "metadata": {
        "id": "i7OQ2gNvCtKl"
      },
      "execution_count": null,
      "outputs": []
    },
    {
      "cell_type": "code",
      "source": [
        "# its rank\n",
        "np.linalg.matrix_rank(M)"
      ],
      "metadata": {
        "id": "8ru6yD7BeWa7"
      },
      "execution_count": null,
      "outputs": []
    },
    {
      "cell_type": "code",
      "source": [
        "# percent variance explained (cumulative)\n",
        "pctExplained = 100 * s**2 / np.sum(s**2)\n",
        "cumu_var = np.cumsum(pctExplained)\n",
        "\n",
        "# count the components until 95% variance is explained\n",
        "effective_dim = np.where(cumu_var>95)[0][0]\n",
        "\n",
        "\n",
        "# plot the matrix\n",
        "_,axs = plt.subplots(1,3,figsize=(12,3.5))\n",
        "axs[0].imshow(M,vmin=-3,vmax=3)\n",
        "axs[0].set(title=f'Rank-{np.linalg.matrix_rank(M)} {m}$\\\\times${m} matrix',\n",
        "           xticks=range(m),yticks=range(m))\n",
        "\n",
        "# and the scree plot\n",
        "axs[1].plot(s,'wh',markersize=10,markerfacecolor=[.7,.9,.7])\n",
        "axs[1].set(xlabel='Principal component',ylabel='Singular value',xticks=range(m),\n",
        "              title='Scree plot')\n",
        "\n",
        "axs[2].plot([effective_dim,effective_dim],[0,cumu_var[effective_dim]],'--',color='gray')\n",
        "axs[2].plot([-1,effective_dim],[cumu_var[effective_dim],cumu_var[effective_dim]],'--',color='gray')\n",
        "axs[2].plot(cumu_var,'ws',markersize=10,markerfacecolor=[.9,.7,.7])\n",
        "\n",
        "axs[2].set(xlabel='Principal component',ylabel='% total variance explained',xticks=range(m),\n",
        "           xlim=[-.5,m+.5],ylim=[cumu_var[0]-3,103],title=f'Effective dimensionality = {effective_dim+1}')\n",
        "\n",
        "plt.tight_layout()\n",
        "plt.show()"
      ],
      "metadata": {
        "id": "bN3qWSXIZ9vR"
      },
      "execution_count": null,
      "outputs": []
    },
    {
      "cell_type": "code",
      "source": [],
      "metadata": {
        "id": "a3x-p29SCtH5"
      },
      "execution_count": null,
      "outputs": []
    },
    {
      "cell_type": "markdown",
      "source": [
        "# Import GPT2 and tokenizer"
      ],
      "metadata": {
        "id": "wCMoOwSc8GnE"
      }
    },
    {
      "cell_type": "code",
      "source": [
        "# load GPT2 model and tokenizer\n",
        "model = AutoModelForCausalLM.from_pretrained('gpt2-xl')\n",
        "tokenizer = GPT2Tokenizer.from_pretrained('gpt2-xl')\n",
        "\n",
        "device = torch.device('cuda:0' if torch.cuda.is_available() else 'cpu')\n",
        "model.to(device)\n",
        "model.eval()"
      ],
      "metadata": {
        "id": "9GbHaQm14zzB"
      },
      "execution_count": null,
      "outputs": []
    },
    {
      "cell_type": "code",
      "source": [],
      "metadata": {
        "id": "VeisQVw04zvA"
      },
      "execution_count": null,
      "outputs": []
    },
    {
      "cell_type": "code",
      "source": [
        "# Through the looking glass (Alice in Wonderland)\n",
        "url = 'https://www.gutenberg.org/cache/epub/11/pg11.txt'\n",
        "# url = 'https://pigeonsarentreal.co.uk/' # a funny website, used in Demo 2\n",
        "\n",
        "# import text\n",
        "text = requests.get(url).text\n",
        "\n",
        "# tokenize and select\n",
        "allTokens = tokenizer.encode(text,return_tensors='pt')\n",
        "tokens = allTokens[:,10000:10000+model.config.n_ctx]\n",
        "\n",
        "print(tokenizer.decode(tokens[0][:100]))"
      ],
      "metadata": {
        "id": "1QCtJSG8LRVO"
      },
      "execution_count": null,
      "outputs": []
    },
    {
      "cell_type": "code",
      "source": [
        "# randomly shuffled takens\n",
        "randidx = torch.randperm(len(tokens[0]))\n",
        "tokensShuffle = tokens[0,randidx].unsqueeze(0)\n",
        "print(tokenizer.decode(tokensShuffle[0][:100]))"
      ],
      "metadata": {
        "id": "_KEpro9XLRDg"
      },
      "execution_count": null,
      "outputs": []
    },
    {
      "cell_type": "code",
      "source": [],
      "metadata": {
        "id": "znLx5UQ74znT"
      },
      "execution_count": null,
      "outputs": []
    },
    {
      "cell_type": "code",
      "source": [
        "# push through the model (~3 mins with gpt2-xl on CPU, or <1s on GPU, lol)\n",
        "with torch.no_grad():\n",
        "  outputs_real = model(tokens.to(device),output_hidden_states=True)\n",
        "  outputs_shuf = model(tokensShuffle.to(device),output_hidden_states=True)\n",
        "\n",
        "outputs_real.hidden_states[0].shape"
      ],
      "metadata": {
        "id": "DfiAwJNxLRSe"
      },
      "execution_count": null,
      "outputs": []
    },
    {
      "cell_type": "code",
      "source": [
        "numHidden = len(outputs_real.hidden_states)\n",
        "numHidden"
      ],
      "metadata": {
        "id": "sz29aI05ldS6"
      },
      "execution_count": null,
      "outputs": []
    },
    {
      "cell_type": "code",
      "source": [],
      "metadata": {
        "id": "4AnMiN9kmdTV"
      },
      "execution_count": null,
      "outputs": []
    },
    {
      "cell_type": "markdown",
      "source": [
        "# Effective dimensionality analysis"
      ],
      "metadata": {
        "id": "lz4_Fc2fwamJ"
      }
    },
    {
      "cell_type": "code",
      "source": [
        "## (~1 min)\n",
        "\n",
        "# threshold for considering a dimension \"occupied\"\n",
        "threshold = 95\n",
        "\n",
        "# initialize\n",
        "cumu_var = np.zeros((numHidden,outputs_real.hidden_states[4].shape[1],2))\n",
        "effective_dim = np.zeros((numHidden,2),dtype=int)\n",
        "\n",
        "\n",
        "# loop over layers\n",
        "for layeri in range(numHidden):\n",
        "\n",
        "  # 1) extract all the activations from this layer (assuming no batches!)\n",
        "  acts = outputs_real.hidden_states[layeri].squeeze().cpu().numpy()\n",
        "\n",
        "  # 2) mean-center the activations\n",
        "  acts -= acts.mean(axis=0,keepdims=True)\n",
        "\n",
        "  # 3) get singular values\n",
        "  s = np.linalg.svd(acts)[1]\n",
        "\n",
        "  # 4) percent explained (cumulative)\n",
        "  pctExplained = 100 * s**2 / np.sum(s**2)\n",
        "  cumu_var[layeri,:,0] = np.cumsum(pctExplained)\n",
        "\n",
        "  # 5) count the components until variance threshold is exceeded\n",
        "  effective_dim[layeri,0] = np.where(cumu_var[layeri,:,0]>threshold)[0][0]\n",
        "\n",
        "\n",
        "\n",
        "  ### repeat for shuffled tokens\n",
        "  acts = outputs_shuf.hidden_states[layeri].squeeze().cpu().numpy()\n",
        "  acts -= acts.mean(axis=0,keepdims=True)\n",
        "  s = np.linalg.svd(acts)[1] # get singular values\n",
        "  pctExplained = 100 * s**2 / np.sum(s**2) # percent explained\n",
        "  cumu_var[layeri,:,1] = np.cumsum(pctExplained) # cumulative\n",
        "  effective_dim[layeri,1] = np.where(cumu_var[layeri,:,1]>threshold)[0][0]+1\n"
      ],
      "metadata": {
        "id": "R8VSmM2OLRPx"
      },
      "execution_count": null,
      "outputs": []
    },
    {
      "cell_type": "code",
      "source": [
        "_,axs = plt.subplots(1,2,figsize=(9,3))\n",
        "\n",
        "acts = outputs_real.hidden_states[5].squeeze().cpu().numpy()\n",
        "acts -= acts.mean(axis=0,keepdims=True)\n",
        "s = np.linalg.svd(acts)[1] # get singular values\n",
        "pctExplained = 100 * s**2 / np.sum(s**2) # percent explained\n",
        "\n",
        "axs[0].plot(pctExplained,'wh-',linewidth=.3,markersize=8,markerfacecolor=[.7,.9,.7,.7])\n",
        "axs[0].set(xlim=[-1,100],xlabel='Component number',ylabel='Percent variance explained')\n",
        "\n",
        "axs[1].plot(np.cumsum(pctExplained),'ws',linewidth=.2,markersize=8,markerfacecolor=[.7,.7,.9,.7])\n",
        "axs[1].axhline(80,linestyle='--',color='gray')\n",
        "axs[1].axvline(53,linestyle='--',color='gray')\n",
        "axs[1].set(xlim=[-1,100],xlabel='Component number',ylabel='Cumulative % var. explained')\n",
        "\n",
        "plt.tight_layout()\n",
        "plt.show()"
      ],
      "metadata": {
        "id": "B59BVelJg-Rb"
      },
      "execution_count": null,
      "outputs": []
    },
    {
      "cell_type": "code",
      "source": [],
      "metadata": {
        "id": "hn-GlZxHIwLs"
      },
      "execution_count": null,
      "outputs": []
    },
    {
      "cell_type": "markdown",
      "source": [
        "# Visualization"
      ],
      "metadata": {
        "id": "q5rD5sniZXJg"
      }
    },
    {
      "cell_type": "code",
      "source": [
        "# setup the figure and axes\n",
        "fig,axs = plt.subplots(1,2,figsize=(10,3.4))\n",
        "\n",
        "# normalization function for mapping layer index onto color\n",
        "norm = mpl.colors.Normalize(vmin=0,vmax=numHidden)\n",
        "\n",
        "\n",
        "# plt the cumulative variance explained\n",
        "for layeri in range(numHidden):\n",
        "  axs[0].plot(cumu_var[layeri,:,0],color=mpl.cm.rainbow(norm(layeri)))\n",
        "  axs[1].plot(cumu_var[layeri,:,1],color=mpl.cm.rainbow(norm(layeri)))\n",
        "\n",
        "axs[0].axhline(threshold,linestyle='--',color='gray')\n",
        "axs[1].axhline(threshold,linestyle='--',color='gray')\n",
        "\n",
        "\n",
        "# add colorbars\n",
        "sm = mpl.cm.ScalarMappable(cmap=mpl.cm.rainbow,norm=norm)\n",
        "cbar = plt.colorbar(sm,ax=axs[0])\n",
        "cbar.set_label(r'Hidden layer')\n",
        "cbar = plt.colorbar(sm,ax=axs[1])\n",
        "cbar.set_label(r'Hidden layer')\n",
        "\n",
        "# make it look nicer\n",
        "axs[0].set(xlabel='Component number',ylabel='% explained (cumulative)',ylim=[50,100.5],xlim=[-2,500],title='(Real) variance explained')\n",
        "axs[1].set(xlabel='Component number',ylabel='% explained (cumulative)',ylim=[50,100.5],xlim=[-2,500],title='(Shuffled) variance explained')\n",
        "\n",
        "plt.tight_layout()\n",
        "plt.show()"
      ],
      "metadata": {
        "id": "N331K6QhSMbN"
      },
      "execution_count": null,
      "outputs": []
    },
    {
      "cell_type": "code",
      "source": [
        "## plot the \"effective subspace dimensionality\" of each layer\n",
        "plt.figure(figsize=(10,3.5))\n",
        "\n",
        "plt.plot(effective_dim[:,1],'ws',linewidth=.1,markerfacecolor=[.9,.7,.7,.7],markersize=8,label='Shuffled tokens')\n",
        "plt.plot(effective_dim[:,0],'wo',linewidth=.1,markerfacecolor=[.7,.9,.7,.7],markersize=8,label='Real tokens')\n",
        "plt.legend()\n",
        "plt.gca().set(xlabel='Hidden layer',ylabel='Numer of dimensions',xlim=[-1,numHidden],\n",
        "              title=f'\"Effective dimensionality\" ({threshold}% variance)\\n(max possible = {sum(s>0)})' )\n",
        "\n",
        "plt.show()"
      ],
      "metadata": {
        "id": "5H5FeH8BOQyX"
      },
      "execution_count": null,
      "outputs": []
    },
    {
      "cell_type": "code",
      "source": [],
      "metadata": {
        "id": "TvdEPIxh9ICy"
      },
      "execution_count": null,
      "outputs": []
    },
    {
      "cell_type": "code",
      "source": [
        "# convert to percent of total possible dimensionality\n",
        "effective_dimP = 100*effective_dim / len(s)\n",
        "\n",
        "plt.figure(figsize=(10,3.5))\n",
        "\n",
        "plt.plot(effective_dimP[:,1],'ws',linewidth=.1,markerfacecolor=[.9,.7,.7,.7],markersize=8,label='Shuffled tokens')\n",
        "plt.plot(effective_dimP[:,0],'wo',linewidth=.1,markerfacecolor=[.7,.9,.7,.7],markersize=8,label='Real tokens')\n",
        "plt.legend()\n",
        "plt.gca().set(xlabel='Hidden layer',ylabel='Percent total dimensionality',\n",
        "              title=f'\"Effective dimensionality\" ({threshold}% variance)\\n(max possible = {sum(s>0)})',\n",
        "              xlim=[-1,numHidden])\n",
        "\n",
        "plt.show()"
      ],
      "metadata": {
        "id": "ijZEtcOm4zdI"
      },
      "execution_count": null,
      "outputs": []
    },
    {
      "cell_type": "code",
      "source": [],
      "metadata": {
        "id": "1UlcZKS04zTZ"
      },
      "execution_count": null,
      "outputs": []
    }
  ]
}