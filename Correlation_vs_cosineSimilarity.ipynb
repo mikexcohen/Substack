{
  "nbformat": 4,
  "nbformat_minor": 0,
  "metadata": {
    "colab": {
      "private_outputs": true,
      "provenance": [],
      "authorship_tag": "ABX9TyPwxtwn62oTTxSEQ0kO+6Ht",
      "include_colab_link": true
    },
    "kernelspec": {
      "name": "python3",
      "display_name": "Python 3"
    },
    "language_info": {
      "name": "python"
    }
  },
  "cells": [
    {
      "cell_type": "markdown",
      "metadata": {
        "id": "view-in-github",
        "colab_type": "text"
      },
      "source": [
        "<a href=\"https://colab.research.google.com/github/mikexcohen/Substack/blob/main/Correlation_vs_cosineSimilarity.ipynb\" target=\"_parent\"><img src=\"https://colab.research.google.com/assets/colab-badge.svg\" alt=\"Open In Colab\"/></a>"
      ]
    },
    {
      "cell_type": "markdown",
      "source": [
        "|<h2>Substack post:</h2>|<h1><a href=\"https://open.substack.com/pub/mikexcohen/p/correlation-vs-cosine-similarity?r=6bsj8n&utm_campaign=post&utm_medium=web&showWelcomeOnShare=true\" target=\"_blank\">Correlation vs. cosine similarity</a></h1>|\n",
        "|-|:-:|\n",
        "|<h2>Teacher:<h2>|<h1>Mike X Cohen, <a href=\"https://sincxpress.com\" target=\"_blank\">sincxpress.com</a></h1>|\n",
        "\n",
        "<br>\n",
        "\n",
        "<i>Using the code without reading the text may lead to confusion or errors.</i>"
      ],
      "metadata": {
        "id": "nYaI2BjAll-z"
      }
    },
    {
      "cell_type": "code",
      "execution_count": null,
      "metadata": {
        "id": "JtwExk-npatK"
      },
      "outputs": [],
      "source": [
        "# import libraries\n",
        "import numpy as np\n",
        "import matplotlib.pyplot as plt\n",
        "\n",
        "# import cosine similarity function\n",
        "from scipy import spatial"
      ]
    },
    {
      "cell_type": "code",
      "source": [],
      "metadata": {
        "id": "UeRuwi2-pbzI"
      },
      "execution_count": null,
      "outputs": []
    },
    {
      "cell_type": "markdown",
      "source": [
        "# Illustration of data simulation\n"
      ],
      "metadata": {
        "id": "C-uZWPpsk42Q"
      }
    },
    {
      "cell_type": "code",
      "source": [
        "# population correlations\n",
        "popCors = [-.7,0,.7]\n",
        "\n",
        "# sample size\n",
        "N = 90\n",
        "\n",
        "# create a figure with three subplots\n",
        "_,axs = plt.subplots(1,3,figsize=(12,4))\n",
        "\n",
        "# loop over a range of r values\n",
        "for i,popr in enumerate(popCors):\n",
        "\n",
        "  ### sample random data with specified population correlation\n",
        "  x = np.random.randn(N)\n",
        "  y = x*popr + np.random.randn(N)*np.sqrt(1-popr**2)\n",
        "\n",
        "  axs[i].plot(x,y,'ko',markersize=10,markerfacecolor=(.2,.6,.2),alpha=.5)\n",
        "  axs[i].set(xlabel='Data \"x\"',ylabel='Data \"y\"',title=f'Correlation = {np.corrcoef(x,y)[0,1]:.2f}')\n",
        "\n",
        "plt.tight_layout()\n",
        "plt.show()"
      ],
      "metadata": {
        "id": "-fZmzozmlCUu"
      },
      "execution_count": null,
      "outputs": []
    },
    {
      "cell_type": "code",
      "source": [],
      "metadata": {
        "id": "kVgY8RdZk4zf"
      },
      "execution_count": null,
      "outputs": []
    },
    {
      "cell_type": "markdown",
      "source": [
        "# Systematic comparison of correlation and cosine similarity"
      ],
      "metadata": {
        "id": "p5sVFnGFk83v"
      }
    },
    {
      "cell_type": "code",
      "source": [
        "# range of population correlation coefficients\n",
        "popRs = np.linspace(-1,1,100)\n",
        "\n",
        "# sample size\n",
        "N = 500\n",
        "\n",
        "# initialize output matrix\n",
        "corrs = np.zeros((len(popRs),2))\n",
        "\n",
        "\n",
        "# loop over a range of r values\n",
        "for ri in range(len(popRs)):\n",
        "\n",
        "  ### sample random data with specified population correlation\n",
        "  x = np.random.randn(N)\n",
        "  y = x*popRs[ri] + np.random.randn(N)*np.sqrt(1-popRs[ri]**2)\n",
        "\n",
        "  ## introduce a mean offset to one variable\n",
        "  x = x-10\n",
        "\n",
        "\n",
        "\n",
        "  ### compute correlation\n",
        "  # Pearson formula\n",
        "  xnorm = np.sum( (x-x.mean())**2 )\n",
        "  ynorm = np.sum( (y-y.mean())**2 )\n",
        "  corrs[ri,0] = np.sum( (x-x.mean())*(y-y.mean()) ) / np.sqrt(xnorm*ynorm)\n",
        "\n",
        "  # equivalent to:\n",
        "  #corrs[ri,0] = np.corrcoef(x,y)[0,1]\n",
        "\n",
        "\n",
        "\n",
        "  ### compute cosine similarity\n",
        "  xnorm = np.sum( x**2 )\n",
        "  ynorm = np.sum( y**2 )\n",
        "  corrs[ri,1] = np.sum( x*y ) / np.sqrt(xnorm*ynorm)\n",
        "\n",
        "  # equivalent to:\n",
        "  #corrs[ri,1] = 1-spatial.distance.cosine(x,y)\n",
        "\n",
        "\n",
        "\n",
        "\n",
        "## visualize the results\n",
        "_,axs = plt.subplots(1,2,figsize=(10,4.5))\n",
        "\n",
        "axs[0].plot(popRs,corrs[:,0],'rs',markersize=10,markerfacecolor=(.9,.3,.3),alpha=.5,label='Correlation')\n",
        "axs[0].plot(popRs,corrs[:,1],'bo',markersize=10,markerfacecolor=(.3,.3,.9),alpha=.5,label='Cosine sim.')\n",
        "axs[0].axhline(y=0,color='gray',linestyle='--')\n",
        "axs[0].axvline(x=0,color='gray',linestyle='--')\n",
        "axs[0].legend()\n",
        "axs[0].set(xlabel='Population correlation',ylabel=r'Measured (sample) $r$ or $S_C$')\n",
        "axs[0].set_title(r'Correlation and cosine sim.')\n",
        "\n",
        "axs[1].plot(corrs[:,0],corrs[:,1],'ks',markersize=10,markerfacecolor=(.2,.6,.2),alpha=.5)\n",
        "axs[1].axhline(y=0,color='gray',linestyle='--')\n",
        "axs[1].axvline(x=0,color='gray',linestyle='--')\n",
        "axs[1].set(xlim=[-1.1,1.1],ylim=[-1.1,1.1],xlabel='Correlation',ylabel='Cosine similarity')\n",
        "axs[1].set_title(f'r={np.corrcoef(corrs.T)[1,0]:.2f}')\n",
        "\n",
        "\n",
        "plt.tight_layout()\n",
        "plt.show()"
      ],
      "metadata": {
        "id": "8Bm8Le4mpbwW"
      },
      "execution_count": null,
      "outputs": []
    },
    {
      "cell_type": "code",
      "source": [],
      "metadata": {
        "id": "hZGpAtfZpbeD"
      },
      "execution_count": null,
      "outputs": []
    }
  ]
}