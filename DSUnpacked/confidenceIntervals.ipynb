{
  "nbformat": 4,
  "nbformat_minor": 0,
  "metadata": {
    "colab": {
      "private_outputs": true,
      "provenance": []
    },
    "kernelspec": {
      "name": "python3",
      "display_name": "Python 3"
    },
    "language_info": {
      "name": "python"
    }
  },
  "cells": [
    {
      "cell_type": "markdown",
      "source": [
        "|<h2>Substack post:</h2>|<h1><a href=\"https://asdf\" target=\"_blank\">Confidence intervals (parts 1, 2, and 3)</a></h1>|\n",
        "|-|:-:|\n",
        "|<h2>Teacher:<h2>|<h1>Mike X Cohen, <a href=\"https://sincxpress.com\" target=\"_blank\">sincxpress.com</a></h1>|\n",
        "\n",
        "<br>\n",
        "\n",
        "<i>Using the code without reading the post may lead to confusion or errors.</i>"
      ],
      "metadata": {
        "id": "oXKWvCfMR1wx"
      }
    },
    {
      "cell_type": "code",
      "execution_count": null,
      "metadata": {
        "id": "oFyTBrGt0AVC"
      },
      "outputs": [],
      "source": [
        "# import libraries and define global settings\n",
        "import numpy as np\n",
        "import scipy.stats as stats\n",
        "import pandas as pd\n",
        "import seaborn as sns\n",
        "\n",
        "import matplotlib.pyplot as plt\n",
        "import matplotlib as mpl"
      ]
    },
    {
      "cell_type": "code",
      "source": [
        "### Run this cell only if you're using \"dark mode\"\n",
        "\n",
        "# svg plots (higher-res)\n",
        "import matplotlib_inline.backend_inline\n",
        "matplotlib_inline.backend_inline.set_matplotlib_formats('svg')\n",
        "\n",
        "plt.rcParams.update({\n",
        "    'figure.facecolor': '#171717',\n",
        "    'figure.edgecolor': '#171717',\n",
        "    'axes.facecolor':   '#171717',\n",
        "    'axes.edgecolor':   '#DDE2F4',\n",
        "    'axes.labelcolor':  '#DDE2F4',\n",
        "    'xtick.color':      '#DDE2F4',\n",
        "    'ytick.color':      '#DDE2F4',\n",
        "    'text.color':       '#DDE2F4',\n",
        "    'axes.spines.right': False,\n",
        "    'axes.spines.top':   False,\n",
        "    'axes.titleweight': 'bold',\n",
        "    'axes.labelweight': 'bold',\n",
        "})"
      ],
      "metadata": {
        "id": "-HsUYG8e0IQC"
      },
      "execution_count": null,
      "outputs": []
    },
    {
      "cell_type": "code",
      "source": [],
      "metadata": {
        "id": "wtzeVs8x0INE"
      },
      "execution_count": null,
      "outputs": []
    },
    {
      "cell_type": "markdown",
      "source": [
        "<h1>The code below is for <b>part 1</b> (interpretation and equation)</h1>\n",
        "<h3>Scroll down for parts 2 and 3</h3>\n"
      ],
      "metadata": {
        "id": "AlevUNbMQrQi"
      }
    },
    {
      "cell_type": "code",
      "source": [
        "# the data\n",
        "eSizes = [6,1,6,1]\n",
        "means = [6.6,7,5,0]\n",
        "\n",
        "# the plot\n",
        "plt.figure(figsize=(4,3))\n",
        "plt.errorbar(range(4),means,eSizes,marker='s',color=[.9,.7,.7], markerfacecolor=(.9,.7,.9),capsize=5,linestyle='None')\n",
        "plt.axhline(y=0,color=(.7,.7,.7),linestyle='--',zorder=-1)\n",
        "plt.gca().set(xticks=range(4),xticklabels=['A','B','C','D'],xlim=[-.5,3.5],\n",
        "              xlabel='Condition',ylabel='Data value')\n",
        "\n",
        "plt.tight_layout()\n",
        "plt.show()"
      ],
      "metadata": {
        "id": "TCzAHP32QrNv"
      },
      "execution_count": null,
      "outputs": []
    },
    {
      "cell_type": "code",
      "source": [],
      "metadata": {
        "id": "_XH1FK7U0IKQ"
      },
      "execution_count": null,
      "outputs": []
    },
    {
      "cell_type": "markdown",
      "source": [
        "# Analytic confidence interval"
      ],
      "metadata": {
        "id": "g6iaC9IdEHKQ"
      }
    },
    {
      "cell_type": "code",
      "source": [
        "conflevel = .95\n",
        "n = 20\n",
        "tStar = stats.t.isf((1-conflevel)/2,n-1)\n",
        "print(tStar)"
      ],
      "metadata": {
        "id": "XDJKx3myEJPd"
      },
      "execution_count": null,
      "outputs": []
    },
    {
      "cell_type": "code",
      "source": [
        "# simulation parameters\n",
        "mean = 2.3\n",
        "stdev = 3.2\n",
        "N = 48\n",
        "conflevel = .95\n",
        "\n",
        "# confidence interval from formula\n",
        "tStar = stats.t.isf((1-conflevel)/2,N-1)\n",
        "conf_int_me = [ mean - tStar*(stdev/np.sqrt(N)), \\\n",
        "                mean + tStar*(stdev/np.sqrt(N)) ]\n",
        "\n",
        "# confidence interval from scipy\n",
        "conf_int_sp = stats.t.interval(conflevel,N-1,\n",
        "                               loc=mean,scale=stdev/np.sqrt(N))\n",
        "\n",
        "print(conf_int_me)\n",
        "print(conf_int_sp)"
      ],
      "metadata": {
        "id": "miXnf5UaEHHq"
      },
      "execution_count": null,
      "outputs": []
    },
    {
      "cell_type": "code",
      "source": [],
      "metadata": {
        "id": "sCQ72WE90IEh"
      },
      "execution_count": null,
      "outputs": []
    },
    {
      "cell_type": "markdown",
      "source": [
        "# Confidence interval vs. standard deviation"
      ],
      "metadata": {
        "id": "qMTOSM8Yk4X4"
      }
    },
    {
      "cell_type": "code",
      "source": [
        "# parameters\n",
        "sampleSizes = [50,2000]\n",
        "confLevel = .95\n",
        "\n",
        "_,axs = plt.subplots(2,1,figsize=(8,5))\n",
        "\n",
        "\n",
        "# loop over the two sample sizes\n",
        "for ax,N,t in zip(axs,sampleSizes,['A','B']):\n",
        "\n",
        "  # generate a random sample of size N\n",
        "  data = np.random.normal(0,2,N)\n",
        "\n",
        "  # mean and standard deviation\n",
        "  mean = np.mean(data)\n",
        "  stdev = np.std(data,ddof=1)\n",
        "\n",
        "  # Calculate 95% confidence interval\n",
        "  stderr = stdev / np.sqrt(len(data))\n",
        "  conf_interval = stats.t.interval(confLevel, N-1, loc=mean, scale=stderr)\n",
        "\n",
        "\n",
        "\n",
        "\n",
        "  # Plot the histogram\n",
        "  ax.hist(data,bins='fd',color=[.7,.7,.9,.3])\n",
        "\n",
        "  # Plot the mean\n",
        "  ax.axvline(mean,color='w',linewidth=3,label='Mean')\n",
        "\n",
        "  # one standard deviation of the mean\n",
        "  ax.axvline(mean-stdev,linestyle=':',color=(.7,.9,.7),linewidth=2,label='1 std')\n",
        "  ax.axvline(mean+stdev,linestyle=':',color=(.7,.9,.7),linewidth=2)\n",
        "\n",
        "  # Plot the confidence interval\n",
        "  ax.axvline(conf_interval[0],linestyle='--',color=(.9,.3,.3),linewidth=2,label='95% CI')\n",
        "  ax.axvline(conf_interval[1],linestyle='--',color=(.9,.3,.3),linewidth=2)\n",
        "\n",
        "  ax.set(xlim=[-6,6],ylabel='Count',title=f'Sample size = {N}')\n",
        "  ax.legend()\n",
        "\n",
        "axs[-1].set_xlabel('Data value')\n",
        "\n",
        "plt.tight_layout()\n",
        "plt.savefig('ci.png',dpi=300)\n",
        "plt.show()"
      ],
      "metadata": {
        "id": "Rlv1MqiNk4Ux"
      },
      "execution_count": null,
      "outputs": []
    },
    {
      "cell_type": "code",
      "source": [
        "# a range of sample sizes\n",
        "sampleSizes = np.arange(5,2000,42)\n",
        "\n",
        "# initialize output matrix\n",
        "results = np.zeros((2,len(sampleSizes)))\n",
        "confLevel = .95\n",
        "\n",
        "# loop over all sample sizes\n",
        "for idx,N in enumerate(sampleSizes):\n",
        "\n",
        "  # Generate a random sample of size N\n",
        "  data = np.random.randn(N)*2\n",
        "\n",
        "  # mean and standard deviation\n",
        "  stdev = np.std(data,ddof=1)\n",
        "\n",
        "  # Calculate 95% confidence interval\n",
        "  stderr = stdev / np.sqrt(len(data))\n",
        "  conf_interval = stats.t.interval(confLevel, N-1, loc=np.mean(data), scale=stderr)\n",
        "\n",
        "  results[0,idx] = 2*stdev\n",
        "  results[1,idx] = conf_interval[1]-conf_interval[0]\n",
        "\n",
        "\n",
        "# visualize!\n",
        "plt.figure(figsize=(10,4))\n",
        "plt.plot(sampleSizes,results[0,:],'wo-',linewidth=.4,markerfacecolor=[.7,.9,.7],markersize=8,label='Standard deviation')\n",
        "plt.plot(sampleSizes,results[1,:],'ws-',linewidth=.4,markerfacecolor=[.9,.7,.7],markersize=8,label='Confidence interval')\n",
        "plt.gca().set(xlabel='Sample size',ylabel='Stdev or C.I. (log)',yscale='log')\n",
        "\n",
        "plt.legend()\n",
        "plt.tight_layout()\n",
        "plt.savefig('ci.png',dpi=300)\n",
        "plt.show()"
      ],
      "metadata": {
        "id": "Dn9h5AEl2pzR"
      },
      "execution_count": null,
      "outputs": []
    },
    {
      "cell_type": "code",
      "source": [],
      "metadata": {
        "id": "FxkMJLBq0H-2"
      },
      "execution_count": null,
      "outputs": []
    },
    {
      "cell_type": "markdown",
      "source": [
        "<h1>The code below is for <b>part 2</b> (bootstrapping methods)</h1>\n",
        "<h3>Keep scrolling for part 3</h3>\n"
      ],
      "metadata": {
        "id": "HjZ9qjnFSYGK"
      }
    },
    {
      "cell_type": "code",
      "source": [],
      "metadata": {
        "id": "qX4-IaN-SXpW"
      },
      "execution_count": null,
      "outputs": []
    },
    {
      "cell_type": "code",
      "source": [
        "# intro to resampling\n",
        "\n",
        "S = [1,2,3,4]\n",
        "\n",
        "print('    Sample    |  Mean')\n",
        "print('----------------------')\n",
        "print(f'{S}  |  {np.mean(S):.2f}')\n",
        "\n",
        "for i in range(5):\n",
        "\n",
        "  # bootstrap a random sample\n",
        "  b = np.random.choice(S,len(S),replace=True)\n",
        "  # note: replace=True is the default setting; I set it here to emphasize its importance.\n",
        "\n",
        "  # and print it and its mean\n",
        "  print(f'{np.sort(b).tolist()}  |  {np.mean(b):.2f}')"
      ],
      "metadata": {
        "id": "aO8P6rZRk6af"
      },
      "execution_count": null,
      "outputs": []
    },
    {
      "cell_type": "code",
      "execution_count": null,
      "metadata": {
        "id": "_kTOHEuoV9KQ"
      },
      "outputs": [],
      "source": [
        "# demo in a larger dataset\n",
        "\n",
        "# parameters\n",
        "samplesize = 500\n",
        "mu = 0\n",
        "sig = .2\n",
        "\n",
        "# data\n",
        "dataset = np.random.lognormal(mean=mu,sigma=sig,size=samplesize)\n",
        "expMean = np.exp(mu+sig**2/2) # expected average\n",
        "\n",
        "# we'll need these statistics later\n",
        "samplemean = np.mean(dataset)\n",
        "samplestd  = np.std(dataset,ddof=1)\n",
        "\n",
        "# histogram\n",
        "plt.figure(figsize=(10,3))\n",
        "plt.hist(dataset,bins='fd',color=[.7,.7,.9],edgecolor='k',label='Data histogram')\n",
        "plt.axvline(samplemean,color='g',linewidth=3,label='Sample mean')\n",
        "plt.axvline(expMean,color='r',linestyle='--',linewidth=3,label='Expected mean')\n",
        "\n",
        "plt.gca().set(xlabel='Data value',ylabel='Count',title=f'Data histogram (N = {samplesize})')\n",
        "\n",
        "plt.legend()\n",
        "plt.show()"
      ]
    },
    {
      "cell_type": "code",
      "source": [
        "# number of resamples\n",
        "numBoots = 1000\n",
        "\n",
        "# initialize a vector to store the bootstrapped means\n",
        "bootmeans = np.zeros(numBoots)\n",
        "\n",
        "## now for bootstrapping\n",
        "for booti in range(numBoots):\n",
        "\n",
        "  # create a bootstrap sample\n",
        "  bootsample = np.random.choice(dataset,samplesize)\n",
        "\n",
        "  # and compute its mean\n",
        "  bootmeans[booti] = np.mean(bootsample)\n",
        "\n",
        "\n",
        "# Coding note: I used a multi-line for-loop above for procedural clarity. A list-comprehension is more compact:\n",
        "#bootmeans = [np.mean(np.random.choice(dataset,samplesize)) for booti in range(numBoots)]\n",
        "\n",
        "\n",
        "# find confidence intervals (hard-coded to 95%)\n",
        "confintB = np.percentile(bootmeans,[2.5,97.5])\n",
        "confintB"
      ],
      "metadata": {
        "id": "k5fZ1uwTXe7Q"
      },
      "execution_count": null,
      "outputs": []
    },
    {
      "cell_type": "code",
      "source": [
        "# graph everything\n",
        "fig,axs = plt.subplots(1,2,figsize=(10,3))\n",
        "\n",
        "for a in axs:\n",
        "\n",
        "  # the histogram\n",
        "  if a is axs[0]:\n",
        "    h = a.hist(dataset,bins='fd',color=[.7,.7,.9,.3],label='Data histogram')\n",
        "  a.hist(bootmeans,bins='fd',color=[.7,.3,.7,.5],label='Bootstrap means')\n",
        "  ytop = np.max(h[0]) # convenient variable for histogram peak value\n",
        "\n",
        "  # confidence interval area\n",
        "  a.fill_between([confintB[0],confintB[1]],[0,0],[ytop,ytop],color=[.7,.9,.7,.2],label=f'{95}% CI region')\n",
        "\n",
        "  # lines indicating population means\n",
        "  a.plot([expMean,expMean],[0,ytop*1.1],'r--',linewidth=2,label='Expected mean')\n",
        "  a.plot([samplemean,samplemean],[0,ytop],'g',linewidth=2,label='Sample mean')\n",
        "\n",
        "  # some more adjustments\n",
        "  a.legend()\n",
        "  a.set(yticks=[],xlabel='Data values',ylabel='Count (a.u.)')\n",
        "\n",
        "\n",
        "axs[1].set_xlim([confintB[0]-np.diff(confintB),confintB[1]+np.diff(confintB)])\n",
        "plt.tight_layout()\n",
        "plt.show()"
      ],
      "metadata": {
        "id": "n_EuZbhY3RPC"
      },
      "execution_count": null,
      "outputs": []
    },
    {
      "cell_type": "code",
      "execution_count": null,
      "metadata": {
        "id": "DaCiRbFCV9KR"
      },
      "outputs": [],
      "source": [
        "## compare against the analytic confidence interval\n",
        "\n",
        "# compute confidence intervals (again, hard-coding to 95%)\n",
        "confintA = stats.t.interval(.975,samplesize-1,\n",
        "                           loc=samplemean,scale=samplestd/np.sqrt(samplesize))\n",
        "\n",
        "print(f'Empirical CI(95%) = ({confintB[0]:.3f},{confintB[1]:.3f})')\n",
        "print(f'Analytic  CI(95%) = ({confintA[0]:.3f},{confintA[1]:.3f})')"
      ]
    },
    {
      "cell_type": "code",
      "source": [],
      "metadata": {
        "id": "ThLfzbLOoGWq"
      },
      "execution_count": null,
      "outputs": []
    },
    {
      "cell_type": "code",
      "source": [
        "# impact of the number of resamples on the CI widths\n",
        "bootstrap_sizes = np.logspace(np.log10(10),np.log10(10_000),100).astype(int)\n",
        "\n",
        "ci_by_bootSize = np.zeros(len(bootstrap_sizes))\n",
        "\n",
        "# run the experiment\n",
        "for i in range(len(bootstrap_sizes)):\n",
        "  numBoots = bootstrap_sizes[i]\n",
        "  bootmeans = [ np.mean(np.random.choice(dataset,samplesize)) for booti in range(numBoots) ]\n",
        "  ci_by_bootSize[i] = np.diff( np.percentile(bootmeans,[2.5,97.5]) )[0]"
      ],
      "metadata": {
        "id": "qg63DDh2yPQj"
      },
      "execution_count": null,
      "outputs": []
    },
    {
      "cell_type": "code",
      "source": [
        "plt.figure(figsize=(10,3))\n",
        "\n",
        "color = abs(ci_by_bootSize - ci_by_bootSize[-1])\n",
        "color = (color-color.min())/(color.max()-color.min())\n",
        "\n",
        "plt.scatter(bootstrap_sizes,ci_by_bootSize,s=80,edgecolor='w',alpha=.7,\n",
        "            linewidth=.3,marker='h',c=mpl.cm.plasma_r(color))\n",
        "plt.axhline(y=ci_by_bootSize[-1],color=(.7,.7,.7),linestyle='--',zorder=-1,linewidth=.5)\n",
        "\n",
        "plt.gca().set(xlabel='Number of bootstrap samples',ylabel='Confidence interval width',xscale='log',\n",
        "              title='Impact of bootstrap size on confidence interval')\n",
        "\n",
        "plt.show()"
      ],
      "metadata": {
        "id": "WF9j4lhY0tAD"
      },
      "execution_count": null,
      "outputs": []
    },
    {
      "cell_type": "code",
      "source": [],
      "metadata": {
        "id": "foLn37IbeHXa"
      },
      "execution_count": null,
      "outputs": []
    },
    {
      "cell_type": "markdown",
      "source": [
        "### Empirical confidence interval bounds on the standard deviation"
      ],
      "metadata": {
        "id": "TbaRvtTfeHUY"
      }
    },
    {
      "cell_type": "code",
      "source": [
        "numBoots = 1000\n",
        "\n",
        "samplestd = np.std(dataset,ddof=1)\n",
        "\n",
        "# using list comprehension\n",
        "bootstds = [ np.std(np.random.choice(dataset,samplesize),ddof=1) for booti in range(numBoots) ]\n",
        "\n",
        "# find confidence intervals (hard-coded to 95%)\n",
        "confintB = np.percentile(bootstds,[2.5,97.5])\n",
        "\n",
        "\n",
        "# graph everything\n",
        "fig,ax = plt.subplots(1,figsize=(8,4))\n",
        "\n",
        "ax.hist(bootstds,bins='fd',color=[.7,.3,.7,.5],label='Bootstrap stdevs')\n",
        "ytop = np.max(h[0]) # convenient variable for histogram peak value\n",
        "\n",
        "# confidence interval area\n",
        "ax.fill_between([confintB[0],confintB[1]],[0,0],[ytop,ytop],color=[.7,.9,.7,.2],label=f'{95}% CI region')\n",
        "\n",
        "# lines indicating population means\n",
        "ax.plot([samplestd,samplestd],[0,ytop],'g',linewidth=2,label='Sample stdev.')\n",
        "\n",
        "# some more adjustments\n",
        "ax.legend()\n",
        "ax.set(yticks=[],xlabel='Standard deviation values',ylabel='Count (a.u.)',\n",
        "       xlim=[confintB[0]-np.diff(confintB),confintB[1]+np.diff(confintB)])\n",
        "\n",
        "plt.tight_layout()\n",
        "plt.show()"
      ],
      "metadata": {
        "id": "7ZJ99heweH4e"
      },
      "execution_count": null,
      "outputs": []
    },
    {
      "cell_type": "code",
      "source": [],
      "metadata": {
        "id": "gZDImgyjeHRN"
      },
      "execution_count": null,
      "outputs": []
    },
    {
      "cell_type": "code",
      "source": [],
      "metadata": {
        "id": "b2Ek6n_ISoKr"
      },
      "execution_count": null,
      "outputs": []
    },
    {
      "cell_type": "markdown",
      "source": [
        "<h1>The code below is for <b>part 3</b> (explorations in real data)</h1>"
      ],
      "metadata": {
        "id": "t0VSsO6tSogS"
      }
    },
    {
      "cell_type": "code",
      "source": [
        "# dataset reference: https://archive.ics.uci.edu/ml/datasets/Arrhythmia\n",
        "\n",
        "# import data\n",
        "url = 'https://archive.ics.uci.edu/ml/machine-learning-databases/arrhythmia/arrhythmia.data'\n",
        "df = pd.read_csv(url,usecols = np.arange(5),\n",
        "                 names = ['age','sex','height','weight','qrs'])\n",
        "\n",
        "# inspect\n",
        "df.describe()"
      ],
      "metadata": {
        "id": "xGrNNNcPSoHm"
      },
      "execution_count": null,
      "outputs": []
    },
    {
      "cell_type": "code",
      "source": [
        "# 1) make a copy of the original data matrix\n",
        "df_z = df.copy()\n",
        "\n",
        "# 2) z-score the data\n",
        "for col in df_z.columns:\n",
        "  if not (col=='sex'):\n",
        "    df_z[col] = (df[col] - df[col].mean()) / df[col].std(ddof=1)\n",
        "\n",
        "# 3) remove extreme values in the original data\n",
        "zThresh = 3.29 # p<.001\n",
        "df_clean = df.copy()\n",
        "df_clean[abs(df_z)>zThresh] = np.nan  # both tails"
      ],
      "metadata": {
        "id": "BkpIH5AzSoFB"
      },
      "execution_count": null,
      "outputs": []
    },
    {
      "cell_type": "code",
      "source": [
        "_,axs = plt.subplots(1,2,figsize=(12,3))\n",
        "sns.boxplot(data=df,linecolor='w',linewidth=.5,ax=axs[0],\n",
        "            flierprops={'markerfacecolor':'m','markeredgecolor':'w'},)\n",
        "axs[0].set(xlabel='Variable',ylabel='Value',title='Box plots of raw data')\n",
        "\n",
        "sns.boxplot(data=df_clean,linecolor='w',linewidth=.5,ax=axs[1],\n",
        "            flierprops={'markerfacecolor':'m','markeredgecolor':'w'},)\n",
        "axs[1].set(xlabel='Variable',ylabel='Value',title='Box plots of cleaned data')\n",
        "\n",
        "plt.tight_layout()\n",
        "plt.show()"
      ],
      "metadata": {
        "id": "TZjBFV1vKjNi"
      },
      "execution_count": null,
      "outputs": []
    },
    {
      "cell_type": "code",
      "source": [
        "# the methods mean(), std(), and count() in Pandas exclude NaN's.\n",
        "\n",
        "confints = np.zeros((len(df.columns),2))\n",
        "\n",
        "for i,col in enumerate(df.columns):\n",
        "\n",
        "  # original data\n",
        "  mean = df[col].mean()\n",
        "  std  = df[col].std(ddof=1)\n",
        "  n    = df[col].count()\n",
        "  ci   = stats.t.ppf(.975,n-1) * std/np.sqrt(n)\n",
        "  print(f'{col:>6} initial: {mean:6.2f} +/- {ci:.2f}')\n",
        "  confints[i,0] = ci\n",
        "\n",
        "  # repeat for cleaned\n",
        "  mean = df_clean[col].mean()\n",
        "  std  = df_clean[col].std(ddof=1)\n",
        "  n    = df_clean[col].count()\n",
        "  ci   = stats.t.ppf(.975,n-1) * std/np.sqrt(n)\n",
        "  print(f'{col:>6} cleaned: {mean:6.2f} +/- {ci:.2f}\\n')\n",
        "  confints[i,1] = ci"
      ],
      "metadata": {
        "id": "E3Tc8YjASoCR"
      },
      "execution_count": null,
      "outputs": []
    },
    {
      "cell_type": "code",
      "source": [
        "plt.figure(figsize=(5,3))\n",
        "\n",
        "for i in range(len(confints)):\n",
        "  plt.plot([i,i],[confints[i,0],confints[i,1]],'w--',linewidth=.5)\n",
        "\n",
        "plt.plot(confints[:,0],'ks',markerfacecolor=[.9,.7,.7],markersize=12,label='Pre-clean')\n",
        "plt.plot(confints[:,1],'ko',markerfacecolor=[.7,.7,.9],markersize=12,label='Post-clean')\n",
        "\n",
        "plt.gca().set(xticks=np.arange(len(confints)),xticklabels=df.columns,\n",
        "              xlabel='Variable',ylabel='Confidence interval',title='Impact of cleaning on confidence interval')\n",
        "\n",
        "plt.legend()\n",
        "plt.tight_layout()\n",
        "plt.show()"
      ],
      "metadata": {
        "id": "tWa-bhXt0wap"
      },
      "execution_count": null,
      "outputs": []
    },
    {
      "cell_type": "code",
      "source": [
        "# sample correlation in the original data\n",
        "observedR = df[['weight','qrs']].corr().values[0,1]\n",
        "\n",
        "# scatter plot\n",
        "plt.figure(figsize=(6,3))\n",
        "plt.plot(df['weight'],df['qrs'],'wh',markerfacecolor=[.7,.9,.7,.5])\n",
        "plt.gca().set(xlabel='Weight',ylabel='QRS duration (ms)',\n",
        "              title=f'Correlation = {observedR:.3f}')\n",
        "\n",
        "plt.show()"
      ],
      "metadata": {
        "id": "qI_fq8NzxFcj"
      },
      "execution_count": null,
      "outputs": []
    },
    {
      "cell_type": "code",
      "source": [
        "# initialize a vector to store the bootstrapped means\n",
        "bootrs = np.zeros(numBoots)\n",
        "\n",
        "## now for bootstrapping\n",
        "for booti in range(numBoots):\n",
        "\n",
        "  # create a bootstrap sample\n",
        "  bootsample = df.sample(n=len(df),replace=True)\n",
        "\n",
        "  # and compute the correlation\n",
        "  bootrs[booti] = bootsample[['weight','qrs']].corr().values[0,1]\n",
        "\n",
        "\n",
        "# calculate the 95% confidence intervals\n",
        "confintB = np.percentile(bootrs,[2.5,97.5])\n",
        "confintB"
      ],
      "metadata": {
        "id": "PkxE97FfzCQc"
      },
      "execution_count": null,
      "outputs": []
    },
    {
      "cell_type": "code",
      "source": [
        "_,ax = plt.subplots(1,figsize=(6,3))\n",
        "\n",
        "h = ax.hist(bootrs,bins='fd',color=[.7,.3,.7,.5],label='Bootstrap $r$')\n",
        "ytop = np.max(h[0])\n",
        "\n",
        "# confidence interval area\n",
        "ax.fill_between([confintB[0],confintB[1]],[0,0],[ytop,ytop],color=[.7,.9,.7,.2],label=f'{95}% CI region')\n",
        "\n",
        "# lines indicating population means\n",
        "ax.plot([0,0],[0,ytop*1.1],'r:',linewidth=2,label='H$_0$ value')\n",
        "ax.plot([observedR,observedR],[0,ytop],'w--',linewidth=2,label='Observed correlation')\n",
        "\n",
        "# some more adjustments\n",
        "ax.legend(fontsize=9)\n",
        "ax.set(yticks=[],xlabel='Data values',ylabel='Count (a.u.)',xlim=[-.3,.5])\n",
        "plt.tight_layout()\n",
        "plt.show()"
      ],
      "metadata": {
        "id": "SGAPq2gfzCNB"
      },
      "execution_count": null,
      "outputs": []
    },
    {
      "cell_type": "code",
      "source": [],
      "metadata": {
        "id": "eCXt-bX8zCJt"
      },
      "execution_count": null,
      "outputs": []
    }
  ]
}