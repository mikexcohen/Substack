{
  "nbformat": 4,
  "nbformat_minor": 0,
  "metadata": {
    "colab": {
      "private_outputs": true,
      "provenance": []
    },
    "kernelspec": {
      "name": "python3",
      "display_name": "Python 3"
    },
    "language_info": {
      "name": "python"
    }
  },
  "cells": [
    {
      "cell_type": "markdown",
      "source": [
        "|<h2>Substack post:</h2>|<h1><a href=\"https://thepalindrome.org/p/the-anatomy-of-the-least-squares\" target=\"_blank\">Least squares part 1: theory, math, code</a></h1>|\n",
        "|-|:-:|\n",
        "|<h2>Teacher:<h2>|<h1>Mike X Cohen, <a href=\"https://sincxpress.com\" target=\"_blank\">sincxpress.com</a></h1>|\n",
        "\n",
        "<br>\n",
        "\n",
        "<i>Using the code without reading the post may lead to confusion or errors.</i>"
      ],
      "metadata": {
        "id": "nYaI2BjAll-z"
      }
    },
    {
      "cell_type": "code",
      "source": [
        "import numpy as np\n",
        "import matplotlib.pyplot as plt\n",
        "import matplotlib as mpl"
      ],
      "metadata": {
        "id": "uATCrruSfQST"
      },
      "execution_count": null,
      "outputs": []
    },
    {
      "cell_type": "code",
      "source": [
        "### Run this cell only if you're using \"dark mode\"\n",
        "\n",
        "# svg plots (higher-res)\n",
        "import matplotlib_inline.backend_inline\n",
        "matplotlib_inline.backend_inline.set_matplotlib_formats('svg')\n",
        "\n",
        "plt.rcParams.update({\n",
        "    'figure.facecolor': '#383838',\n",
        "    'figure.edgecolor': '#383838',\n",
        "    'axes.facecolor':   '#383838',\n",
        "    'axes.edgecolor':   '#DDE2F4',\n",
        "    'axes.labelcolor':  '#DDE2F4',\n",
        "    'xtick.color':      '#DDE2F4',\n",
        "    'ytick.color':      '#DDE2F4',\n",
        "    'text.color':       '#DDE2F4',\n",
        "    'axes.spines.right': False,\n",
        "    'axes.spines.top':   False,\n",
        "    'axes.titleweight': 'bold',\n",
        "    'axes.labelweight': 'bold',\n",
        "})"
      ],
      "metadata": {
        "id": "0dqDMrqDfI5r"
      },
      "execution_count": null,
      "outputs": []
    },
    {
      "cell_type": "code",
      "source": [],
      "metadata": {
        "id": "pMBMqVgxfI2o"
      },
      "execution_count": null,
      "outputs": []
    },
    {
      "cell_type": "markdown",
      "source": [
        "# Regression picture and terms"
      ],
      "metadata": {
        "id": "5FjBzL3YfYcS"
      }
    },
    {
      "cell_type": "code",
      "source": [
        "# some data\n",
        "N = 9\n",
        "x = np.linspace(-1,4,N)\n",
        "y = 1 + x + np.random.randn(N)\n",
        "\n",
        "# fit model and get predictions\n",
        "X = np.vstack((np.ones(N),x)).T\n",
        "betas = np.linalg.lstsq(X,y,rcond=None)[0]\n",
        "\n",
        "# get predictions\n",
        "yHat = X@betas\n",
        "\n",
        "# plt\n",
        "_,axs = plt.subplots(1,1,figsize=(8,6))\n",
        "\n",
        "# plot the data\n",
        "axs.plot(x,y,'ko',markerfacecolor=[.7,.7,.9],markersize=18,alpha=.5,label='Observations ($y$)')\n",
        "axs.set(xlabel='X (regressor)',ylabel='Y (DV)')\n",
        "\n",
        "# plot the regression line\n",
        "axs.plot(x,yHat,linewidth=2,label='Best-fit line')\n",
        "\n",
        "# plot the intercept\n",
        "axs.plot(0,betas[0],'kv',markersize=20,markerfacecolor=[.3,.7,.3],label='Intercept',zorder=10)\n",
        "\n",
        "\n",
        "# data-point-specific projection lines\n",
        "for i in range(N):\n",
        "  axs.plot([x[i],x[i]],[y[i],yHat[i]],'--.',color='gray')\n",
        "  axs.plot([x[i],x[i]],[yHat[i],yHat[i]],'rs',markersize=10,markerfacecolor=[.7,.3,.3],label=r'Predicted ($\\hat{y}$)')\n",
        "\n",
        "\n",
        "# final adjustments\n",
        "labh,labels = axs.get_legend_handles_labels() # to prevent redundant 'Predicted' labels\n",
        "axs.legend(labh[:4],labels[:4],fontsize=16) # only the first four (unique) legends\n",
        "axs.grid(linewidth=.1)\n",
        "\n",
        "plt.tight_layout()\n",
        "plt.savefig('fig1.svg')\n",
        "plt.show()"
      ],
      "metadata": {
        "id": "ZtTgRygffU0l"
      },
      "execution_count": null,
      "outputs": []
    },
    {
      "cell_type": "code",
      "source": [],
      "metadata": {
        "id": "2UzGZIi6fUxp"
      },
      "execution_count": null,
      "outputs": []
    },
    {
      "cell_type": "markdown",
      "source": [
        "# A fun example"
      ],
      "metadata": {
        "id": "tEMBRaWZNFR3"
      }
    },
    {
      "cell_type": "code",
      "source": [
        "# the data\n",
        "HungarianPunk = np.array([ 1, 2, 4, 5, 7 ])\n",
        "happiness = np.array([ 5, 6.5, 6, 8, 9 ])\n",
        "n = len(HungarianPunk)\n",
        "\n",
        "# the plot\n",
        "plt.figure(figsize=(6,5))\n",
        "plt.plot(HungarianPunk,happiness,'wo',markerfacecolor=[.9,.7,.7],markersize=15)\n",
        "plt.gca().set(xlabel='Hungarian punk band concerts',ylabel='Overall life happiness (1-10)',\n",
        "              yticks=range(4,10) )\n",
        "\n",
        "plt.tight_layout()\n",
        "plt.savefig('fig2.svg')\n",
        "plt.show()"
      ],
      "metadata": {
        "id": "cwFxcqdgfUu3"
      },
      "execution_count": null,
      "outputs": []
    },
    {
      "cell_type": "code",
      "source": [
        "# as numpy arrays\n",
        "X = np.vstack( (np.ones(n),HungarianPunk)).T\n",
        "y = happiness\n",
        "\n",
        "# least-squares solution\n",
        "beta = np.linalg.inv(X.T@X) @ X.T @ y\n",
        "print(beta)"
      ],
      "metadata": {
        "id": "QN53jWcKfIw6"
      },
      "execution_count": null,
      "outputs": []
    },
    {
      "cell_type": "code",
      "source": [
        "# the design matrix\n",
        "X"
      ],
      "metadata": {
        "id": "8rO0VNOLNKy0"
      },
      "execution_count": null,
      "outputs": []
    },
    {
      "cell_type": "code",
      "source": [
        "# the model predicts are the design matrix times the beta coefficients\n",
        "predictions = X@beta\n",
        "\n",
        "# visualization\n",
        "plt.figure(figsize=(6,5))\n",
        "plt.plot(HungarianPunk,happiness,'wo',markerfacecolor=[.9,.7,.7],markersize=15,label='Observed data')\n",
        "plt.plot(HungarianPunk,predictions,'ws-',markerfacecolor=[.3,.3,.7],markersize=10,label='Model-predicted values')\n",
        "\n",
        "for i in range(n):\n",
        "  plt.plot([HungarianPunk[i],HungarianPunk[i]],[happiness[i],predictions[i]],\n",
        "           '--',color='gray',zorder=-4)\n",
        "plt.plot(4,6,'--',color='gray',label='Residuals')\n",
        "\n",
        "plt.legend()\n",
        "plt.gca().set(xlabel='Hungarian punk band concerts',ylabel='Overall life happiness (1-10)',\n",
        "              yticks=range(4,10) )\n",
        "\n",
        "plt.tight_layout()\n",
        "plt.savefig('fig3.svg')\n",
        "plt.show()"
      ],
      "metadata": {
        "id": "TSWg88ekfIuU"
      },
      "execution_count": null,
      "outputs": []
    },
    {
      "cell_type": "code",
      "source": [
        "# vector of the residuals\n",
        "residuals = y - predictions\n",
        "\n",
        "# the residuals sum to zero (within tolerance of computer precision)\n",
        "residuals.sum()"
      ],
      "metadata": {
        "id": "0yStMUa8fIrp"
      },
      "execution_count": null,
      "outputs": []
    },
    {
      "cell_type": "code",
      "source": [],
      "metadata": {
        "id": "9OUWaLAEu7Xc"
      },
      "execution_count": null,
      "outputs": []
    }
  ]
}
