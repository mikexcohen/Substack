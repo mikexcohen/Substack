{
  "nbformat": 4,
  "nbformat_minor": 0,
  "metadata": {
    "colab": {
      "private_outputs": true,
      "provenance": []
    },
    "kernelspec": {
      "name": "python3",
      "display_name": "Python 3"
    },
    "language_info": {
      "name": "python"
    }
  },
  "cells": [
    {
      "cell_type": "markdown",
      "source": [
        "|<h2>Substack post:</h2>|<h1><a href=\"https://open.substack.com/pub/mikexcohen/p/correlation-vs-cosine-similarity\" target=\"_blank\">Correlation vs. best-fit line (regression)</a></h1>|\n",
        "|-|:-:|\n",
        "|<h2>Teacher:<h2>|<h1>Mike X Cohen, <a href=\"https://sincxpress.com\" target=\"_blank\">sincxpress.com</a></h1>|\n",
        "\n",
        "<br>\n",
        "\n",
        "<i>Using the code without reading the post may lead to confusion or errors.</i>"
      ],
      "metadata": {
        "id": "nYaI2BjAll-z"
      }
    },
    {
      "cell_type": "code",
      "source": [
        "import numpy as np\n",
        "import matplotlib.pyplot as plt\n",
        "\n",
        "import scipy.stats as stats"
      ],
      "metadata": {
        "id": "SjJmVyf_SG9X"
      },
      "execution_count": null,
      "outputs": []
    },
    {
      "cell_type": "code",
      "source": [
        "### Run this cell only if you're using \"dark mode\"\n",
        "\n",
        "# svg plots (higher-res)\n",
        "import matplotlib_inline.backend_inline\n",
        "matplotlib_inline.backend_inline.set_matplotlib_formats('svg')\n",
        "\n",
        "plt.rcParams.update({\n",
        "    'figure.facecolor': '#282a2c',#'#171717', # 17 to match substack background\n",
        "    'figure.edgecolor': '#282a2c',\n",
        "    'axes.facecolor':   '#282a2c',\n",
        "    'axes.edgecolor':   '#DDE2F4',\n",
        "    'axes.labelcolor':  '#DDE2F4',\n",
        "    'xtick.color':      '#DDE2F4',\n",
        "    'ytick.color':      '#DDE2F4',\n",
        "    'text.color':       '#DDE2F4',\n",
        "    'axes.spines.right': False,\n",
        "    'axes.spines.top':   False,\n",
        "    'axes.titleweight': 'bold',\n",
        "    'axes.labelweight': 'bold'\n",
        "})"
      ],
      "metadata": {
        "id": "3NMiHCsejWq_"
      },
      "execution_count": null,
      "outputs": []
    },
    {
      "cell_type": "code",
      "source": [],
      "metadata": {
        "id": "XNL0HwV3VrNv"
      },
      "execution_count": null,
      "outputs": []
    },
    {
      "cell_type": "markdown",
      "source": [
        "# Demo 1: Intuition for correlation"
      ],
      "metadata": {
        "id": "qHS-G6JDVrLU"
      }
    },
    {
      "cell_type": "code",
      "source": [
        "# 1) population correlation values\n",
        "rs = [ 1,.7,.2,-.2,-.7,-1 ]\n",
        "N = 188 # sample size\n",
        "\n",
        "# 2) stylizing the plot\n",
        "shapes = 'hso'\n",
        "colors = [ [.9,.7,.7,.7],[.7,.9,.7,.7],[.7,.7,.9,.7] ]\n",
        "\n",
        "# start the plotting!\n",
        "_,axs = plt.subplots(2,3,figsize=(10,6))\n",
        "for r,ax,i in zip(rs,axs.flatten(),range(6)):\n",
        "\n",
        "  # 3) generate the data\n",
        "  x = np.random.randn(N)\n",
        "  y = x*r + np.random.randn(N)*np.sqrt(1-r**2)\n",
        "\n",
        "  # 4) empirical correlation\n",
        "  r = np.corrcoef(x,y)[0,1]\n",
        "\n",
        "  # 5) plot\n",
        "  ax.plot(x,y,'w'+shapes[i%3],markerfacecolor=colors[i%3],markersize=6)\n",
        "  ax.set(xticks=[],yticks=[],title=f'r = {r:.2f}')\n",
        "\n",
        "\n",
        "plt.tight_layout()\n",
        "plt.show()"
      ],
      "metadata": {
        "id": "I_zNQbaVSG6f"
      },
      "execution_count": null,
      "outputs": []
    },
    {
      "cell_type": "code",
      "source": [],
      "metadata": {
        "id": "yiqnBZY3SG4M"
      },
      "execution_count": null,
      "outputs": []
    },
    {
      "cell_type": "markdown",
      "source": [
        "# Demo 2: Intuition for simple regression"
      ],
      "metadata": {
        "id": "QPSic8_9SG1Q"
      }
    },
    {
      "cell_type": "code",
      "source": [
        "# 1) simulation parameters\n",
        "b0 = -3\n",
        "b1 = 1.6\n",
        "epsilon = np.random.normal(0,1.5,N)\n",
        "\n",
        "# 2) simulate the data\n",
        "x = np.random.normal(0,1,N)\n",
        "y = b0 + b1*x + epsilon\n",
        "\n",
        "# 3) estimate the parameters using scipy.stats\n",
        "slope,intercept,_,_,_ = stats.linregress(x,y)\n",
        "yHat = intercept + slope*x\n",
        "\n",
        "\n",
        "plt.figure(figsize=(9,6))\n",
        "plt.plot(x,y,'wh',markerfacecolor=[.7,.9,.7,.5],label='Data')\n",
        "plt.plot(x,yHat,'w',linewidth=2,zorder=-1,label=f'y = {intercept:.2f} + {slope:.2f}x')\n",
        "\n",
        "plt.title(f'y = {b0} + {b1}x')\n",
        "plt.legend()\n",
        "plt.show()"
      ],
      "metadata": {
        "id": "KADwfU2I2IjJ"
      },
      "execution_count": null,
      "outputs": []
    },
    {
      "cell_type": "code",
      "source": [
        "print(f'b0 (truth): {b0:.4f}')\n",
        "print(f'b0 (esti.): {intercept:.4f}\\n')\n",
        "\n",
        "print(f'b1 (truth): {b1:.4f}')\n",
        "print(f'b1 (esti.): {slope:.4f}\\n')"
      ],
      "metadata": {
        "id": "y4GCZyOW2JnW"
      },
      "execution_count": null,
      "outputs": []
    },
    {
      "cell_type": "code",
      "source": [],
      "metadata": {
        "id": "884Vw4zE2Jki"
      },
      "execution_count": null,
      "outputs": []
    },
    {
      "cell_type": "markdown",
      "source": [
        "# Demo 3: Correlation ≠ regression"
      ],
      "metadata": {
        "id": "pi5_Ex8V2IgO"
      }
    },
    {
      "cell_type": "code",
      "source": [
        "# 1) generate the original data\n",
        "popR = .7 # population correlation\n",
        "x_og = np.random.randn(N)\n",
        "y_og = x_og*popR + np.random.randn(N)*np.sqrt(1-popR**2)\n",
        "\n",
        "# # force z-score\n",
        "# x_og = (x_og-x_og.mean()) / x_og.std()\n",
        "# y_og = (y_og-y_og.mean()) / y_og.std()\n",
        "\n",
        "\n",
        "# 2) specify [x,y] means and stds for each simulation\n",
        "means = [ (0,0),(0,1),(4,0),(-3,-3) ]\n",
        "stds  = [ (1,1),(1,2),(4,1),(33,33) ]\n",
        "\n",
        "# 3) start the plotting!\n",
        "_,axs = plt.subplots(2,2,figsize=(10,6))\n",
        "for i,ax in enumerate(axs.flatten()):\n",
        "\n",
        "  # 4) create the sample data\n",
        "  x = x_og*stds[i][0] + means[i][0]\n",
        "  y = y_og*stds[i][1] + means[i][1]\n",
        "\n",
        "  # 5) empirical correlation and regression params\n",
        "  r = np.corrcoef(x,y)[0,1]\n",
        "  slope,intercept,_,_,_ = stats.linregress(x,y)\n",
        "  yHat = intercept + slope*x\n",
        "\n",
        "  # 6) create and stylize the plot\n",
        "  ax.plot(x,y,'w'+shapes[i%3],markerfacecolor=colors[i%3],markersize=6)\n",
        "  ax.plot(x,yHat,'w',linewidth=3)\n",
        "  ax.set(xticks=[x.mean()],yticks=[y.mean()],\n",
        "         title=f'{'ABCD'[i]})  $\\\\beta_1$={slope:.3f}, $r$={r:.3f}')\n",
        "  ax.grid(linestyle='--',zorder=-10,color=[.3,.3,.3])\n",
        "\n",
        "\n",
        "\n",
        "plt.tight_layout()\n",
        "plt.show()"
      ],
      "metadata": {
        "id": "BUo68VjfWnJZ"
      },
      "execution_count": null,
      "outputs": []
    },
    {
      "cell_type": "code",
      "source": [],
      "metadata": {
        "id": "MS1kwkbdWnL-"
      },
      "execution_count": null,
      "outputs": []
    },
    {
      "cell_type": "markdown",
      "source": [
        "# Demo 4: Numerical simulations of the equations"
      ],
      "metadata": {
        "id": "yMGSBynT2rIm"
      }
    },
    {
      "cell_type": "code",
      "source": [
        "# 1) Simulate data\n",
        "popR = .7 # population correlation\n",
        "N = 123\n",
        "x = np.random.randn(N)\n",
        "y = x*popR + np.random.randn(N)*np.sqrt(1-popR**2)\n",
        "\n",
        "# 2) specify the exact means and stds\n",
        "x_mean = 0.4\n",
        "y_mean = 1\n",
        "x_std  = 1.5\n",
        "y_std  = 1.9\n",
        "\n",
        "# 3) shift/scale the data\n",
        "x = (x-x.mean()) / x.std()\n",
        "x = x*x_std + x_mean\n",
        "\n",
        "y = (y-y.mean()) / y.std()\n",
        "y = y*y_std + y_mean\n",
        "\n",
        "# 4) confirm the specified characteristics\n",
        "print('       Mean  |   Std')\n",
        "print('-------------+---------')\n",
        "print(f'x  |  {x.mean():.3f}  |  {x.std():.3f}')\n",
        "print(f'y  |  {y.mean():.3f}  |  {y.std():.3f}')"
      ],
      "metadata": {
        "id": "N5jCeOOv2uTy"
      },
      "execution_count": null,
      "outputs": []
    },
    {
      "cell_type": "code",
      "source": [
        "# 1) convenient to have the means\n",
        "xmean = x.mean()\n",
        "ymean = y.mean()\n",
        "\n",
        "# 2) correlation from numpy\n",
        "r_numpy = np.corrcoef(x,y)[0,1]\n",
        "\n",
        "# 3) manual correlation calculation\n",
        "num = sum( (x-xmean)*(y-ymean) )\n",
        "den = np.sqrt( sum((x-xmean)**2) ) * np.sqrt( sum((y-ymean)**2) )\n",
        "r_manu = num/den\n",
        "\n",
        "# 4) regression parameters from sp.stats\n",
        "b1_sp,b0_sp,_,_,_ = stats.linregress(x,y)\n",
        "\n",
        "# 5) manual regression parameters\n",
        "b1_man = sum( (x-xmean)*(y-ymean) ) / sum( (x-xmean)**2 )\n",
        "b0_man = ymean - b1_man*xmean\n",
        "\n",
        "# 6) beta1 from r\n",
        "b1_r = r_manu * (y.std()/x.std())\n",
        "\n",
        "# 7) print the results\n",
        "print(f'Correlation (manual): {r_manu:.5f}')\n",
        "print(f' Correlation (numpy): {r_numpy:.5f}\\n')\n",
        "\n",
        "print(f'     beta-1 (manual): {b1_man:.5f}')\n",
        "print(f'      beta-1 (stats): {b1_sp:.5f}')\n",
        "print(f'       beta-1 from r: {b1_r:.5f}\\n')\n",
        "\n",
        "print(f'  Intercept (manual): {b0_man:.5f}')\n",
        "print(f'   Intercept (stats): {b0_sp:.5f}')"
      ],
      "metadata": {
        "id": "UmHGLyPHdtl-"
      },
      "execution_count": null,
      "outputs": []
    },
    {
      "cell_type": "code",
      "source": [],
      "metadata": {
        "id": "UxUoduABSGx4"
      },
      "execution_count": null,
      "outputs": []
    }
  ]
}